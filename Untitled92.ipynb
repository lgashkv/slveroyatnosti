{
 "cells": [
  {
   "cell_type": "code",
   "execution_count": 1,
   "metadata": {},
   "outputs": [
    {
     "name": "stdout",
     "output_type": "stream",
     "text": [
      "Игра невыгодна игроку\n",
      "Игрок теряет 0.20354000000000005\n",
      "Теоретическая вероятность 0.204\n"
     ]
    }
   ],
   "source": [
    "import numpy as np\n",
    "\n",
    "trials = 100000  \n",
    "successes = 0    \n",
    "\n",
    "for i in range(trials):\n",
    "    random_score = np.random.randint(0, 1000)    \n",
    "    if random_score == 777:\n",
    "        successes += 200\n",
    "    elif random_score == 999:\n",
    "        successes += 100  \n",
    "    elif random_score == 555:\n",
    "        successes += 50 \n",
    "    elif random_score == 333:\n",
    "        successes += 15\n",
    "    elif random_score == 111:\n",
    "        successes += 10 \n",
    "    elif random_score != 777 and random_score %100 == 77:\n",
    "        successes += 5\n",
    "    elif random_score != 777 and random_score %10 == 7:\n",
    "        successes += 3\n",
    "    elif random_score %100 == 0:\n",
    "        successes += 2\n",
    "    elif random_score %10 == 0:\n",
    "        successes += 1\n",
    "    vygoda = successes - trials\n",
    "    p_monte_carlo_lozer  =  trials/trials  - successes/trials \n",
    "    p_monte_carlo_win = successes/trials -trials/trials\n",
    "if vygoda > 0:\n",
    "    print(\"Игра выгодна игроку\")\n",
    "    print(\"Игрок приобретает\",p_monte_carlo_win)\n",
    "else:\n",
    "    print(\"Игра невыгодна игроку\")\n",
    "    print(\"Игрок теряет\",p_monte_carlo_lozer)\n",
    "\n",
    "    p = 204 / 1000\n",
    "print(\"Теоретическая вероятность\",p)"
   ]
  },
  {
   "cell_type": "code",
   "execution_count": null,
   "metadata": {},
   "outputs": [],
   "source": []
  },
  {
   "cell_type": "code",
   "execution_count": null,
   "metadata": {},
   "outputs": [],
   "source": []
  },
  {
   "cell_type": "code",
   "execution_count": null,
   "metadata": {},
   "outputs": [],
   "source": []
  },
  {
   "cell_type": "code",
   "execution_count": null,
   "metadata": {},
   "outputs": [],
   "source": []
  }
 ],
 "metadata": {
  "kernelspec": {
   "display_name": "Python 3",
   "language": "python",
   "name": "python3"
  },
  "language_info": {
   "codemirror_mode": {
    "name": "ipython",
    "version": 3
   },
   "file_extension": ".py",
   "mimetype": "text/x-python",
   "name": "python",
   "nbconvert_exporter": "python",
   "pygments_lexer": "ipython3",
   "version": "3.8.3"
  }
 },
 "nbformat": 4,
 "nbformat_minor": 4
}
